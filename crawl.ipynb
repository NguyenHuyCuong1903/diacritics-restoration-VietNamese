{
 "cells": [
  {
   "cell_type": "code",
   "execution_count": 1,
   "metadata": {},
   "outputs": [],
   "source": [
    "from selenium.webdriver import ChromeOptions, Chrome\n",
    "from selenium.webdriver.support.ui import WebDriverWait\n",
    "from selenium.webdriver.support import expected_conditions as EC\n",
    "from selenium.webdriver.common.by import By\n",
    "import selenium\n",
    "import time"
   ]
  },
  {
   "cell_type": "code",
   "execution_count": 2,
   "metadata": {},
   "outputs": [],
   "source": [
    "opt = ChromeOptions()\n",
    "opt.add_argument(\"--disable-extensions\")\n",
    "driver = Chrome(options=opt)\n",
    "driver.get(\"https://www.google.com.vn/\")"
   ]
  },
  {
   "cell_type": "code",
   "execution_count": 12,
   "metadata": {},
   "outputs": [],
   "source": [
    "def scroll_to_bottom(driver):\n",
    "    while True:\n",
    "        # Lấy chiều cao trang web hiện tại\n",
    "        current_height = driver.execute_script(\"return Math.max( document.body.scrollHeight, document.body.offsetHeight, document.documentElement.clientHeight, document.documentElement.scrollHeight, document.documentElement.offsetHeight );\")\n",
    "\n",
    "        # Kéo lăn chuột xuống cuối trang\n",
    "        driver.execute_script(\"window.scrollTo(0, document.body.scrollHeight);\")\n",
    "\n",
    "        # Đợi một khoảng thời gian ngắn để tránh tình trạng cuộc di chuyển quá nhanh\n",
    "        time.sleep(2)\n",
    "\n",
    "        # Lấy chiều cao mới của trang web\n",
    "        new_height = driver.execute_script(\"return Math.max( document.body.scrollHeight, document.body.offsetHeight, document.documentElement.clientHeight, document.documentElement.scrollHeight, document.documentElement.offsetHeight );\")\n",
    "\n",
    "        # Kiểm tra xem đã đến cuối trang chưa\n",
    "        if new_height == current_height:\n",
    "            break"
   ]
  },
  {
   "cell_type": "code",
   "execution_count": 7,
   "metadata": {},
   "outputs": [],
   "source": [
    "def click_xemthem(driver):\n",
    "    button = driver.find_element(By.CSS_SELECTOR, \"a.btn\")\n",
    "    driver.execute_script(\"arguments[0].click();\", button)"
   ]
  },
  {
   "cell_type": "code",
   "execution_count": 8,
   "metadata": {},
   "outputs": [],
   "source": [
    "def extract_text(url, file):\n",
    "    driver.get(url)\n",
    "    driver.implicitly_wait(1)\n",
    "\n",
    "    # Extract all <h> and <p> tags from the current page\n",
    "    header_tags = driver.find_elements(By.CSS_SELECTOR, 'h1, h2, h3, h4, h5, h6')\n",
    "    paragraph_tags = driver.find_elements(By.CSS_SELECTOR, 'p')\n",
    "\n",
    "    # Print the text content of each header tag\n",
    "    for header_tag in header_tags:\n",
    "        if len(header_tag.text) > 1:\n",
    "            file.write(header_tag.text + '\\n')\n",
    "\n",
    "    # Print the text content of each paragraph tag\n",
    "    for paragraph_tag in paragraph_tags:\n",
    "        if len(paragraph_tag.text) > 1:\n",
    "            file.write(paragraph_tag.text + '\\n')\n",
    "\n",
    "    driver.implicitly_wait(1)"
   ]
  },
  {
   "cell_type": "markdown",
   "metadata": {},
   "source": [
    "#### Báo chính phủ"
   ]
  },
  {
   "cell_type": "code",
   "execution_count": 16,
   "metadata": {},
   "outputs": [
    {
     "name": "stdout",
     "output_type": "stream",
     "text": [
      "49\n"
     ]
    }
   ],
   "source": [
    "driver.get(\"https://baochinhphu.vn/bo-y-te.html\")\n",
    "num_clicks = 20\n",
    "for _ in range(num_clicks):\n",
    "    try:\n",
    "        scroll_to_bottom(driver)\n",
    "        click_xemthem(driver)\n",
    "        time.sleep(0.1)\n",
    "    except:\n",
    "        break\n",
    "time.sleep(1)\n",
    "elements = driver.find_elements(By.CLASS_NAME, \"box-stream-link-with-avatar\")\n",
    "link_to_target = []\n",
    "for it in elements:\n",
    "    link_to_target.append(it.get_attribute(\"href\"))\n",
    "\n",
    "print(len(link_to_target))\n",
    "with open(\"./Data/data.txt\", \"w\") as f:\n",
    "    for link in link_to_target:\n",
    "        try:\n",
    "            extract_text(link, f)\n",
    "        except:\n",
    "            pass"
   ]
  },
  {
   "cell_type": "markdown",
   "metadata": {},
   "source": [
    "#### Vnexpress"
   ]
  },
  {
   "cell_type": "code",
   "execution_count": 8,
   "metadata": {},
   "outputs": [
    {
     "name": "stdout",
     "output_type": "stream",
     "text": [
      "3420\n"
     ]
    }
   ],
   "source": [
    "url = \"https://vnexpress.net/suc-khoe/\"\n",
    "tag = ['tin-tuc', 'tu-van', 'dinh-duong', 'khoe-dep', 'dan-ong', 'cac-benh', 'vaccine']\n",
    "link_to_target = []\n",
    "for t in tag:\n",
    "    for p in range(1,20):\n",
    "        driver.get(f\"{url}{t}-p{p}\")\n",
    "        time.sleep(2)\n",
    "        elements = driver.find_elements(By.XPATH, \"//h2[@class='title-news']//a\")\n",
    "        for it in elements:\n",
    "            link_to_target.append(it.get_attribute(\"href\"))\n",
    "\n",
    "print(len(link_to_target))\n",
    "\n",
    "with open(\"./Data/data.txt\", \"w\") as f:\n",
    "    for link in link_to_target:\n",
    "        try:\n",
    "            driver.get(link)\n",
    "            driver.implicitly_wait(2)\n",
    "            e = driver.find_elements(By.CSS_SELECTOR, \"p.Normal\")\n",
    "            for i in e:\n",
    "                f.write(i.text + '\\n')\n",
    "        except:\n",
    "            pass"
   ]
  }
 ],
 "metadata": {
  "kernelspec": {
   "display_name": "Transformers",
   "language": "python",
   "name": "python3"
  },
  "language_info": {
   "codemirror_mode": {
    "name": "ipython",
    "version": 3
   },
   "file_extension": ".py",
   "mimetype": "text/x-python",
   "name": "python",
   "nbconvert_exporter": "python",
   "pygments_lexer": "ipython3",
   "version": "3.10.13"
  }
 },
 "nbformat": 4,
 "nbformat_minor": 2
}
